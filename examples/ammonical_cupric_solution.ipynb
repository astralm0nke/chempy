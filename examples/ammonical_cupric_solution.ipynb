{
 "cells": [
  {
   "cell_type": "markdown",
   "metadata": {},
   "source": [
    "# System of non-linear equations - Coupled chemical equilibria\n",
    "Author: Björn Dahlgren, Applied Physcial Chemistry, KTH Royal Insitiute of Technology\n",
    "\n",
    "In this example we will study the equilibria between aqueous cupric ions and ammonia.\n",
    "We will use [ChemPy](https://github.com/bjodah/chempy) which is a Python package collecting functions and classes useful for chemistry related problems. We will also make use of SymPy for manipulating and inspecting the formulae encountered."
   ]
  },
  {
   "cell_type": "code",
   "execution_count": null,
   "metadata": {},
   "outputs": [],
   "source": [
    "from collections import defaultdict\n",
    "from chempy import atomic_number\n",
    "from chempy.chemistry import Species, Equilibrium\n",
    "from chempy.equilibria import EqSystem, NumSysLin, NumSysLog, NumSysSquare\n",
    "from chempy.units import rescale, default_units as u\n",
    "from IPython.display import Latex, display\n",
    "import matplotlib.pyplot as plt\n",
    "%matplotlib inline\n",
    "def show(s):  # convenience function\n",
    "    display(Latex('$'+s+'$'))\n",
    "import sympy; import chempy; print('SymPy: %s, ChemPy: %s' % (sympy.__version__, chempy.__version__))"
   ]
  },
  {
   "cell_type": "markdown",
   "metadata": {},
   "source": [
    "Let's define our species with names and composition, ChemPy can parse chemical formulae:"
   ]
  },
  {
   "cell_type": "code",
   "execution_count": null,
   "metadata": {},
   "outputs": [],
   "source": [
    "NH3_complexes = ['CuNH3+2', 'Cu(NH3)2+2', 'Cu(NH3)3+2', 'Cu(NH3)4+2', 'Cu(NH3)5+2']\n",
    "OH_complexes = ['Cu2(OH)2+2', 'Cu(OH)3-', 'Cu(OH)4-2']\n",
    "substances = [\n",
    "    Species.from_formula(n) for n in ['H+', 'OH-', 'NH4+', 'NH3', 'H2O', 'Cu+2'] + \n",
    "        NH3_complexes + OH_complexes + ['Cu(OH)2(s)']\n",
    "] #, CuOHp, CuOH2,\n",
    "ionic_radii = {\n",
    "    'NH4+': 2.5*u.angstrom,\n",
    "    'H+': 9*u.angstrom,\n",
    "    'OH-': 3.5*u.angstrom,\n",
    "    'Cu+2': 6*u.angstrom,\n",
    "} # Kielland (1937)\n",
    "for substance in substances:\n",
    "    if substance.charge != 0:\n",
    "        substance.data['ionic_radius'] = rescale(ionic_radii['Cu+2' if substance.name.startswith('Cu') else substance.name], u.m)\n",
    "substance_names = [s.name for s in substances]"
   ]
  },
  {
   "cell_type": "markdown",
   "metadata": {},
   "source": [
    "Let's see how the species are pretty-printed:"
   ]
  },
  {
   "cell_type": "code",
   "execution_count": null,
   "metadata": {},
   "outputs": [],
   "source": [
    "show(', '.join([s.latex_name for s in substances]))"
   ]
  },
  {
   "cell_type": "markdown",
   "metadata": {},
   "source": [
    "Let's define some initial concentrations. We will consider different amount of added ammonia in 10 mM solutions of $Cu^{2+}$:"
   ]
  },
  {
   "cell_type": "code",
   "execution_count": null,
   "metadata": {},
   "outputs": [],
   "source": [
    "init_conc = defaultdict(float, {'H+': 1e-7, 'OH-': 1e-7, 'NH4+': 0,\n",
    "                                'NH3': 1.0, 'Cu+2': 1e-2, 'H2O': 55.5})"
   ]
  },
  {
   "cell_type": "markdown",
   "metadata": {},
   "source": [
    "Now, let us define the equilibria, data are from course material at Applied Physcial Chemistry, KTH Royal Insitiute of Technology."
   ]
  },
  {
   "cell_type": "code",
   "execution_count": null,
   "metadata": {},
   "outputs": [],
   "source": [
    "H2O_c = init_conc['H2O']\n",
    "w_autop = Equilibrium({'H2O': 1}, {'H+': 1, 'OH-': 1}, 10**-14/H2O_c)\n",
    "NH4p_pr = Equilibrium({'NH4+': 1}, {'H+': 1, 'NH3': 1}, 10**-9.26)\n",
    "CuOH2_s = Equilibrium({'Cu(OH)2(s)': 1}, {'Cu+2': 1, 'OH-': 2}, 10**-18.8)\n",
    "CuOH_B3 = Equilibrium({'Cu(OH)2(s)': 1, 'OH-': 1}, {'Cu(OH)3-': 1}, 10**-3.6)\n",
    "CuOH_B4 = Equilibrium({'Cu(OH)2(s)': 1, 'OH-': 2}, {'Cu(OH)4-2': 1}, 10**-2.7)\n",
    "Cu2OH2 = Equilibrium({'Cu+2': 2, 'H2O': 2}, {'Cu2(OH)2+2': 1, 'H+': 2}, 10**-10.6 / H2O_c**2)\n",
    "CuNH3_B1 = Equilibrium({'CuNH3+2': 1}, {'Cu+2': 1, 'NH3': 1}, 10**-4.3)\n",
    "CuNH3_B2 = Equilibrium({'Cu(NH3)2+2': 1}, {'Cu+2': 1, 'NH3': 2}, 10**-7.9)\n",
    "CuNH3_B3 = Equilibrium({'Cu(NH3)3+2': 1}, {'Cu+2': 1, 'NH3': 3}, 10**-10.8)\n",
    "CuNH3_B4 = Equilibrium({'Cu(NH3)4+2': 1}, {'Cu+2': 1, 'NH3': 4}, 10**-13.0)\n",
    "CuNH3_B5 = Equilibrium({'Cu(NH3)5+2': 1}, {'Cu+2': 1, 'NH3': 5}, 10**-12.4)\n",
    "equilibria = w_autop, NH4p_pr, CuNH3_B1, CuNH3_B2, CuNH3_B3, CuNH3_B4, CuNH3_B5, Cu2OH2, CuOH2_s, CuOH_B3, CuOH_B4"
   ]
  },
  {
   "cell_type": "markdown",
   "metadata": {},
   "source": [
    "### Export to C++..."
   ]
  },
  {
   "cell_type": "code",
   "execution_count": null,
   "metadata": {},
   "outputs": [],
   "source": []
  },
  {
   "cell_type": "code",
   "execution_count": null,
   "metadata": {},
   "outputs": [],
   "source": [
    "print(\"// std::vector<std::string> names = {%s}\" % \", \".join(f'\"{n}\"' for n in substance_names))\n",
    "print(\"std::vector<std::vector<eqs::IdxCoeff>> stoich;\")\n",
    "for i, eq in enumerate(equilibria):\n",
    "    print('stoich.push_back({%s}); /* %s */' % (\", \".join(\n",
    "        [\"{%d, %d}\" % (substance_names.index(k), -v) for k, v in eq.reac.items()]+\n",
    "        [\"{%d, %d}\" % (substance_names.index(k), +v) for k, v in eq.prod.items()]\n",
    "    ), eq.string()))\n",
    "print(\"std::array<double, %d> eq_consts {%s};\" % (len(equilibria), \", \".join([str(eq.param) for eq in equilibria])))\n",
    "nprecip = 1\n",
    "print(\"return eqs::EqSys(%d, %d, stoich);\" % (len(substances)-nprecip, nprecip))"
   ]
  },
  {
   "cell_type": "markdown",
   "metadata": {},
   "source": [
    "### Human readable"
   ]
  },
  {
   "cell_type": "markdown",
   "metadata": {},
   "source": [
    "Let's see if we can print ``equilibria`` in a human-readable form:"
   ]
  },
  {
   "cell_type": "code",
   "execution_count": null,
   "metadata": {},
   "outputs": [],
   "source": [
    "from IPython.core.display import display, HTML\n",
    "display(HTML(\"<style>.container { width:100% !important; }</style>\"))\n",
    "import sympy as sp\n",
    "net = sp.Matrix([eq.net_stoich(substance_names[:-3]) for eq in equilibria[:-3]])\n",
    "ns = net.nullspace()\n",
    "def print_mat(mat):\n",
    "    print(' '.join(\"{:>11s}\".format(e) for e in substance_names[:len(mat[0])]))\n",
    "    print('\\n'.join(f\"{1+ri:>2d}:\" + ' '.join(map(lambda e: \"{:11.2f}\".format(float(e)), row)) for ri, row in enumerate(mat)))\n",
    "\n",
    "print_mat(ns)"
   ]
  },
  {
   "cell_type": "code",
   "execution_count": null,
   "metadata": {},
   "outputs": [],
   "source": [
    "print_mat(net.tolist())"
   ]
  },
  {
   "cell_type": "code",
   "execution_count": null,
   "metadata": {},
   "outputs": [],
   "source": [
    "compo = sp.Matrix([[s.composition.get(c, 0) for c in [0, 1, 7, 8, atomic_number('Cu')]] for s in substances[:-3]]).T\n",
    "#print(compo.shape)\n",
    "print_mat(compo.tolist())"
   ]
  },
  {
   "cell_type": "code",
   "execution_count": null,
   "metadata": {},
   "outputs": [],
   "source": [
    "compo_rref, compo_piv = compo.rref()\n",
    "print(compo_piv)\n",
    "print_mat(compo_rref.tolist())"
   ]
  },
  {
   "cell_type": "code",
   "execution_count": null,
   "metadata": {},
   "outputs": [],
   "source": [
    "print_mat(net.rref()[0].tolist())  # not what we are looking for"
   ]
  },
  {
   "cell_type": "code",
   "execution_count": null,
   "metadata": {},
   "outputs": [],
   "source": [
    "Q, R = net.QRdecomposition()\n",
    "Q, R"
   ]
  },
  {
   "cell_type": "code",
   "execution_count": null,
   "metadata": {},
   "outputs": [],
   "source": [
    "R.rref()[0]"
   ]
  },
  {
   "cell_type": "code",
   "execution_count": null,
   "metadata": {},
   "outputs": [],
   "source": [
    "net.rref()[0]"
   ]
  },
  {
   "cell_type": "code",
   "execution_count": null,
   "metadata": {},
   "outputs": [],
   "source": [
    "print_mat(net.rref()[0].tolist())"
   ]
  },
  {
   "cell_type": "code",
   "execution_count": null,
   "metadata": {},
   "outputs": [],
   "source": [
    "def to_cxx(mat, flat=False):\n",
    "    if flat:\n",
    "        return \",\\n\".join([\", \".join(\"{: 3g}\".format(float(e)) for e in row) for row in mat.tolist()])+';\\n'\n",
    "    else:\n",
    "        return str(mat.tolist()).replace('[', '{').replace(']', '}')"
   ]
  },
  {
   "cell_type": "code",
   "execution_count": null,
   "metadata": {},
   "outputs": [],
   "source": [
    "to_cxx(net.rref()[0].applyfunc(float))"
   ]
  },
  {
   "cell_type": "code",
   "execution_count": null,
   "metadata": {},
   "outputs": [],
   "source": [
    "#from scipy.optimize import fmin\n",
    "def fmin(f, x0):\n",
    "    xmin = None\n",
    "    vmin = None\n",
    "    for x in range(-5,5):\n",
    "        if x == 0:\n",
    "            continue\n",
    "        if xmin is None:\n",
    "            xmin = x\n",
    "            vmin = f(x)\n",
    "            continue\n",
    "        v = f(x)\n",
    "        if v < vmin:\n",
    "            xmin = x\n",
    "            vmin = v\n",
    "            #print(x, v)\n",
    "    return xmin, vmin\n",
    "\n",
    "def min_mag(A, aug=None):\n",
    "    A = A.copy()\n",
    "    rows = []\n",
    "    for i in range(A.rows):\n",
    "        min_abs_nonzero_ele = min([abs(x) for x in A[i, :] if x != 0])\n",
    "        if (min_abs_nonzero_ele < 1 and min_abs_nonzero_ele > 0.1) or min_abs_nonzero_ele >= 2:\n",
    "            print(i)\n",
    "            A[i, :] /= min_abs_nonzero_ele\n",
    "            if aug is not None:\n",
    "                aug[i, :] /= min_abs_nonzero_ele\n",
    "\n",
    "    for i in range(A.rows-1, -1, -1):\n",
    "        def wsum(lst):\n",
    "            return sum([e**2 for e in lst])\n",
    "        little_more_than_one = 1 + 1e-10\n",
    "        \n",
    "\n",
    "        jmin = -1\n",
    "        vmin = wsum(A[i, :])\n",
    "        for j in range(0, A.rows):\n",
    "            if i == j:\n",
    "                continue\n",
    "            def f(alpha):\n",
    "                return wsum(A[i, :] + alpha*A[j, :])\n",
    "\n",
    "            alpha, val = fmin(f, 1)\n",
    "            #print(alpha, end=\", \")\n",
    "            if val*little_more_than_one < vmin:\n",
    "                vmin = val\n",
    "                jmin = j\n",
    "                amin = alpha\n",
    "        if jmin != -1:\n",
    "            print(i, jmin, amin)\n",
    "            #rows.append(A[i, :] + float(amin)*A[jmin, :])\n",
    "            A[i, :] += amin*A[jmin, :]\n",
    "            if aug is not None:\n",
    "                aug[i, :] += amin*aug[jmin, :]\n",
    "    return A"
   ]
  },
  {
   "cell_type": "code",
   "execution_count": null,
   "metadata": {},
   "outputs": [],
   "source": [
    "net#.rref()"
   ]
  },
  {
   "cell_type": "code",
   "execution_count": null,
   "metadata": {},
   "outputs": [],
   "source": [
    "sum(abs(e) for e in net.rref()[0])"
   ]
  },
  {
   "cell_type": "code",
   "execution_count": null,
   "metadata": {},
   "outputs": [],
   "source": [
    "aug = sp.eye(8)\n",
    "mmag = min_mag(net, aug=aug)\n",
    "print_mat(mmag.tolist())"
   ]
  },
  {
   "cell_type": "code",
   "execution_count": null,
   "metadata": {},
   "outputs": [],
   "source": [
    "#mmag2 = mmag.subs({sp.Float(1.0): sp.S.One, sp.Float(0.5): sp.S.One/2, sp.Float(2.0): 2*sp.S.One, sp.Float(3.0): 3*sp.S.One})\n",
    "#mmag2, mmag2.rank()\n",
    "mmag2 = mmag"
   ]
  },
  {
   "cell_type": "code",
   "execution_count": null,
   "metadata": {},
   "outputs": [],
   "source": [
    "mmag3 = min_mag(mmag2, aug=aug)\n",
    "mmag3"
   ]
  },
  {
   "cell_type": "code",
   "execution_count": null,
   "metadata": {},
   "outputs": [],
   "source": [
    "sum(e != 0 for e in mmag3)"
   ]
  },
  {
   "cell_type": "code",
   "execution_count": null,
   "metadata": {},
   "outputs": [],
   "source": [
    "mmag4 = min_mag(mmag3, aug=aug)\n",
    "mmag4"
   ]
  },
  {
   "cell_type": "code",
   "execution_count": null,
   "metadata": {},
   "outputs": [],
   "source": [
    "sum(e != 0 for e in mmag4)"
   ]
  },
  {
   "cell_type": "code",
   "execution_count": null,
   "metadata": {},
   "outputs": [],
   "source": [
    "print_mat(mmag4.tolist())"
   ]
  },
  {
   "cell_type": "code",
   "execution_count": null,
   "metadata": {},
   "outputs": [],
   "source": [
    "mmag5 = min_mag(mmag4, aug=aug)\n",
    "mmag5"
   ]
  },
  {
   "cell_type": "code",
   "execution_count": null,
   "metadata": {},
   "outputs": [],
   "source": [
    "sum(e != 0 for e in mmag5)"
   ]
  },
  {
   "cell_type": "code",
   "execution_count": null,
   "metadata": {},
   "outputs": [],
   "source": [
    "mmag13"
   ]
  },
  {
   "cell_type": "code",
   "execution_count": null,
   "metadata": {},
   "outputs": [],
   "source": [
    "sum(e != 0 for e in mmag13)"
   ]
  },
  {
   "cell_type": "code",
   "execution_count": null,
   "metadata": {},
   "outputs": [],
   "source": [
    "aug"
   ]
  },
  {
   "cell_type": "code",
   "execution_count": null,
   "metadata": {},
   "outputs": [],
   "source": []
  },
  {
   "cell_type": "code",
   "execution_count": null,
   "metadata": {},
   "outputs": [],
   "source": [
    "ref = sp.Matrix(8,20, [0]*8*20)\n",
    "ref[:, :12] = mmag5\n",
    "ref[:, 12:] = aug\n",
    "print(to_cxx(ref, flat=True))\n",
    "ref"
   ]
  },
  {
   "cell_type": "code",
   "execution_count": null,
   "metadata": {},
   "outputs": [],
   "source": [
    "print_mat(mmag5.tolist())"
   ]
  },
  {
   "cell_type": "code",
   "execution_count": null,
   "metadata": {},
   "outputs": [],
   "source": [
    "aug"
   ]
  },
  {
   "cell_type": "code",
   "execution_count": null,
   "metadata": {},
   "outputs": [],
   "source": [
    "lbk = [np.log(eq.param) for eq in equilibria[:8]]\n",
    "(aug@sp.Matrix(8, 1, lbk)).applyfunc(lambda x: x/np.log(10))"
   ]
  },
  {
   "cell_type": "code",
   "execution_count": null,
   "metadata": {},
   "outputs": [],
   "source": [
    "def nullspace(mat):\n",
    "    rows = mat.nullspace()\n",
    "    for row in rows:\n",
    "        assert len(row) == len(rows[0])\n",
    "    return sp.Matrix(len(rows), len(rows[0]), lambda i, j: rows[i][j])\n",
    "print_mat(nullspace(net).tolist())"
   ]
  },
  {
   "cell_type": "code",
   "execution_count": null,
   "metadata": {},
   "outputs": [],
   "source": [
    "print_mat(nullspace(net).rref()[0].tolist())"
   ]
  },
  {
   "cell_type": "code",
   "execution_count": null,
   "metadata": {},
   "outputs": [],
   "source": [
    "L, U, lu_piv = compo.LUdecomposition()\n",
    "L, U, lu_piv"
   ]
  },
  {
   "cell_type": "code",
   "execution_count": null,
   "metadata": {},
   "outputs": [],
   "source": [
    "sp.Matrix(U.tolist()[:-1]).rref()"
   ]
  },
  {
   "cell_type": "code",
   "execution_count": null,
   "metadata": {},
   "outputs": [],
   "source": [
    "R = sp.Matrix(compo_rref.tolist()[:-1])\n",
    "N = sp.Matrix([list(n) for n in ns])\n",
    "R, N"
   ]
  },
  {
   "cell_type": "code",
   "execution_count": null,
   "metadata": {},
   "outputs": [],
   "source": [
    "N.rref()"
   ]
  },
  {
   "cell_type": "code",
   "execution_count": null,
   "metadata": {},
   "outputs": [],
   "source": [
    "import functools\n",
    "N_gcd = functools.reduce(sp.gcd, N)\n",
    "N/N_gcd"
   ]
  },
  {
   "cell_type": "code",
   "execution_count": null,
   "metadata": {},
   "outputs": [],
   "source": [
    "net"
   ]
  },
  {
   "cell_type": "code",
   "execution_count": null,
   "metadata": {},
   "outputs": [],
   "source": [
    "N@net.T"
   ]
  },
  {
   "cell_type": "code",
   "execution_count": null,
   "metadata": {},
   "outputs": [],
   "source": [
    "import numpy as np\n",
    "s=np.array([[float(e.strip()) for e in row.strip().split()] for row in \"\"\"\\\n",
    "   0.49550276185810738   -0.36616683957796192  -0.082300703508099163  -0.064667961140072741                                            \n",
    "   0.15672389166339035    0.53956433987380703   0.083352064813416907    0.15185588423140142                                            \n",
    "   0.52041884415681294   -0.26082719466049581   0.076406010493367593   -0.12979582474815846                                            \n",
    "  0.024916082298705577    0.10533964491746588    0.15870671400146669  -0.065127863608085743                                            \n",
    "   0.65222665352149778    0.17339750029584497  0.0010513613053178064   0.087187923091328612                                            \n",
    "  -0.10896152795961236   -0.46780479991621987   -0.10445292134310068    0.28838316393791613                                            \n",
    " -0.084045445660906826   -0.36246515499875392   0.054253792658366072    0.22325530032983038                                            \n",
    " -0.059129363362201225   -0.25712551008128803    0.21296050665983274    0.15812743672174467                                            \n",
    " -0.034213281063495631   -0.15178586516382209    0.37166722066129931   0.092999573113658973                                            \n",
    "-0.0092971987647900121  -0.046446220246356335    0.53037393466276606   0.027871709505573147                                            \n",
    "  0.015618883533915445    0.05889342467110948     0.6890806486642328  -0.037256154102512484                                            \n",
    "  0.095524727407555896     0.1435190799151741  -0.042201713059367388    0.88047809633863505 \"\"\".split('\\n')])\n",
    "s"
   ]
  },
  {
   "cell_type": "code",
   "execution_count": null,
   "metadata": {},
   "outputs": [],
   "source": [
    "to_cxx(s)"
   ]
  },
  {
   "cell_type": "code",
   "execution_count": null,
   "metadata": {},
   "outputs": [],
   "source": [
    "s.T"
   ]
  },
  {
   "cell_type": "code",
   "execution_count": null,
   "metadata": {},
   "outputs": [],
   "source": [
    "from scipy.linalg import lu\n",
    "p,l,u=lu(s.T)"
   ]
  },
  {
   "cell_type": "code",
   "execution_count": null,
   "metadata": {},
   "outputs": [],
   "source": [
    "np.set_printoptions(linewidth=200, formatter={'float': lambda x: \"{:5.2f}\".format(x) if x !=0 else \"     \"})\n",
    "u"
   ]
  },
  {
   "cell_type": "code",
   "execution_count": null,
   "metadata": {},
   "outputs": [],
   "source": [
    "def _piv(row):\n",
    "    abs_avg = np.sum(np.abs(row))/row.size\n",
    "    thresh = 1e-8 * abs_avg\n",
    "    for i in range(len(row)):\n",
    "        if abs(row[i]) > thresh:\n",
    "            return i\n",
    "    raise ValueError(\"failed to find pivot\")\n",
    "    \n",
    "def reduced(mtx):\n",
    "    rows = []\n",
    "    for i, row in enumerate(mtx):\n",
    "        piv = _piv(row)\n",
    "        for j, prev in enumerate(rows):\n",
    "            alpha = prev[piv]/row[piv]\n",
    "            rows[j] = prev - alpha * row\n",
    "        row /= row[piv]\n",
    "        rows.append(row)\n",
    "    if isinstance(mtx, np.ndarray):\n",
    "        result = np.empty_like(mtx)\n",
    "        for i, row in enumerate(rows):\n",
    "            result[i, :] = row\n",
    "    elif isinstance(mtx, sp.MatrixBase):\n",
    "        result = sp.Matrix(len(rows), len(rows[0]), lambda i, j: rows[i][j])\n",
    "    else:\n",
    "        result = rows\n",
    "    return result\n",
    "\n",
    "#reduced(u)\n",
    "print_mat(reduced(u).tolist())"
   ]
  },
  {
   "cell_type": "code",
   "execution_count": null,
   "metadata": {},
   "outputs": [],
   "source": [
    "to_cxx(reduced(u))"
   ]
  },
  {
   "cell_type": "code",
   "execution_count": null,
   "metadata": {},
   "outputs": [],
   "source": [
    "def pos(mtx):\n",
    "    mtx = mtx.copy()\n",
    "    for col_idx in range(mtx.shape[1]):\n",
    "        col = mtx[:, col_idx]\n",
    "        i_max = np.argmax(col)\n",
    "        mx = col[i_max]\n",
    "        if mx <= 0:\n",
    "            raise ValueError(\"assumption failed\")\n",
    "        for i in range(mtx.shape[0]):\n",
    "            coeff = mtx[i, col_idx]\n",
    "            if coeff < 0:\n",
    "                alpha = -coeff/mx\n",
    "                mtx[i, :] += alpha*mtx[i_max, :]\n",
    "    return mtx\n",
    "print_mat(pos(reduced(u)).tolist())"
   ]
  },
  {
   "cell_type": "code",
   "execution_count": null,
   "metadata": {},
   "outputs": [],
   "source": [
    "to_cxx(pos(reduced(u)))"
   ]
  },
  {
   "cell_type": "code",
   "execution_count": null,
   "metadata": {},
   "outputs": [],
   "source": [
    "R@net.T"
   ]
  },
  {
   "cell_type": "code",
   "execution_count": null,
   "metadata": {},
   "outputs": [],
   "source": [
    "u@net.T"
   ]
  },
  {
   "cell_type": "code",
   "execution_count": null,
   "metadata": {},
   "outputs": [],
   "source": [
    "reduced(u)@net.T"
   ]
  },
  {
   "cell_type": "code",
   "execution_count": null,
   "metadata": {},
   "outputs": [],
   "source": [
    "s.T@net.T"
   ]
  },
  {
   "cell_type": "code",
   "execution_count": null,
   "metadata": {},
   "outputs": [],
   "source": [
    "d = np.array([float(e) for e in \"1, 0, 0, 0, 0.31629267024806201, 1, 0, 0, 1.0502844468621562, 0.18882495495922746, 1, 0, 0.050284446862156079, 0.18882495495922716, 0.99999999999999956, 0, 1.3162926702480622, 0.99999999999999978, 6.8319789749995289e-16, 0, 0, 0, 0, 1, 0.050284446862156051, 0.18882495495922746, 1.0000000000000002, 1.0000000000000002, 0.10056889372431217, 0.37764990991845471, 1.9999999999999998, 1.0000000000000002, 0.15085334058646824, 0.56647486487768173, 2.9999999999999982, 1, 0.2011377874486244, 0.75529981983690875, 3.9999999999999982, 1, 0.25142223431078037, 0.94412477479613599, 4.9999999999999982, 1.0000000000000004, 0.63258534049612392, 2, 1.4432899320127035e-15, 2.0000000000000004\".split(',')]).reshape((4, -1))\n",
    "d"
   ]
  },
  {
   "cell_type": "code",
   "execution_count": null,
   "metadata": {},
   "outputs": [],
   "source": [
    "def symbolic_sum(mat):\n",
    "    for row in mat if isinstance(mat, list) else mat.tolist():\n",
    "        sum_ = sum([sp.Symbol(f\"[{s}]\")*c for s, c in zip(substance_names, row)])\n",
    "        if sum_ != 0:\n",
    "            print(sum_)\n",
    "symbolic_sum(compo_rref)"
   ]
  },
  {
   "cell_type": "code",
   "execution_count": null,
   "metadata": {},
   "outputs": [],
   "source": [
    "#for vec in ns:\n",
    "#    print(sum([sp.Symbol(f\"[{s}]\")*c for s, c in zip(substance_names, vec)]))\n",
    "symbolic_sum(ns)"
   ]
  },
  {
   "cell_type": "code",
   "execution_count": null,
   "metadata": {},
   "outputs": [],
   "source": [
    "show(', '.join([s.latex_name for s in substances]))\n",
    "show('~')\n",
    "from math import log10\n",
    "for i, eq in enumerate(equilibria):\n",
    "    ltx = eq.latex(dict(zip(substance_names, substances)))\n",
    "    show(str(i+1) + \":~~\" + ltx + '~'*(80-len(ltx)) + 'lgK = {0:12.5g}'.format(log10(eq.param)))  # latex table would be better..."
   ]
  },
  {
   "cell_type": "markdown",
   "metadata": {},
   "source": [
    "To keep our numerical treatment as simple as possible we will try to avoid representing\n",
    "$Cu(OH)_2(s)$ explicitly (which is present in the three last equilibria). This is becuase the\n",
    "system of equations change when precipitation sets in.\n",
    "\n",
    "However, we do want to keep the two last equilibria, therefore we rewrite\n",
    "those using the dissolution equilibria them only using dissolved species:"
   ]
  },
  {
   "cell_type": "code",
   "execution_count": null,
   "metadata": {},
   "outputs": [],
   "source": [
    "new_eqs = CuOH2_s - CuOH_B3, CuOH2_s - CuOH_B4\n",
    "[str(_) for _ in new_eqs]"
   ]
  },
  {
   "cell_type": "code",
   "execution_count": null,
   "metadata": {},
   "outputs": [],
   "source": [
    "CuO3H3-\n",
    "Cu+++3OH-\n",
    "\n",
    "CuO4H4--\n",
    "Cu+++4OH-"
   ]
  },
  {
   "cell_type": "markdown",
   "metadata": {},
   "source": [
    "Now it's time to exclude the precipitate species and replace the last three equilibria with our two new ones:"
   ]
  },
  {
   "cell_type": "code",
   "execution_count": null,
   "metadata": {},
   "outputs": [],
   "source": [
    "#skip_subs, skip_eq = (4, 4) # (0, 0), (1, 1), (3, 3), (4, 4), (11, 9)\n",
    "skip_subs, skip_eq = (1, 3)\n",
    "simpl_subs = substances[:-skip_subs]\n",
    "simpl_eq = equilibria[:-skip_eq] + new_eqs\n",
    "simpl_c0 = {k.name: init_conc[k.name] for k in simpl_subs}"
   ]
  },
  {
   "cell_type": "markdown",
   "metadata": {},
   "source": [
    "From the law of mass action we can from the equilbria and from the preservation of mass and charge formulate a non-linear system of equations:"
   ]
  },
  {
   "cell_type": "code",
   "execution_count": null,
   "metadata": {},
   "outputs": [],
   "source": [
    "import sympy as sp\n",
    "import numpy as np\n",
    "sp.init_printing()\n",
    "eqsys = EqSystem(simpl_eq, simpl_subs)\n",
    "x, i, Ks = sp.symarray('x', eqsys.ns), sp.symarray('i', eqsys.ns), sp.symarray('K', eqsys.nr)\n",
    "correct_debye_huckel_extended = False\n",
    "params = np.concatenate((i, [K*(\n",
    "    eq.Kcorr_activity(\n",
    "        molalities=dict(zip(eqsys.substances, x)),\n",
    "        substances=eqsys.substances,\n",
    "        kw=dict(\n",
    "            eps_r=80.1,\n",
    "            rho=998*u.kg/u.m3,\n",
    "            T=298.15*u.K,\n",
    "            units=u,\n",
    "            backend=sp\n",
    "        )).replace(\n",
    "    lambda e: isinstance(e, sp.ImmutableDenseNDimArray) and e.shape == (),\n",
    "    lambda e: e.args[0].args[0]\n",
    ") if correct_debye_huckel_extended else 1) for K, eq in zip(Ks, eqsys.rxns)]))\n",
    "params"
   ]
  },
  {
   "cell_type": "code",
   "execution_count": null,
   "metadata": {},
   "outputs": [],
   "source": [
    "numsys_lin = NumSysLin(eqsys, backend=sp)\n",
    "f = numsys_lin.f(x, params)\n",
    "f # print(f)"
   ]
  },
  {
   "cell_type": "code",
   "execution_count": null,
   "metadata": {},
   "outputs": [],
   "source": []
  },
  {
   "cell_type": "markdown",
   "metadata": {},
   "source": [
    "It turns out that the success of the numerical root finding process for above system of equations is terribly sensitive on the choice of the initial guess. We therefore reformulate the equations in terms of the logarithm of the concentrations:"
   ]
  },
  {
   "cell_type": "code",
   "execution_count": null,
   "metadata": {},
   "outputs": [],
   "source": [
    "numsys_log = NumSysLog(eqsys, backend=sp)\n",
    "f = numsys_log.f(x, params)\n",
    "f"
   ]
  },
  {
   "cell_type": "markdown",
   "metadata": {},
   "source": [
    "We can take a peek on the jacobian of this vector:"
   ]
  },
  {
   "cell_type": "code",
   "execution_count": null,
   "metadata": {},
   "outputs": [],
   "source": [
    "def spy(j):\n",
    "    print('\\n'.join(' '.join([' #'[int(e != 0)] for e in row]) for row in j.tolist()))\n",
    "j=sp.Matrix(1, len(f), lambda _, q: f[q]).jacobian(x)\n",
    "spy(j)"
   ]
  },
  {
   "cell_type": "markdown",
   "metadata": {},
   "source": [
    "The preservation equations of mass and charge actually contain a redundant equation, so currently our system is over-determined:"
   ]
  },
  {
   "cell_type": "code",
   "execution_count": null,
   "metadata": {},
   "outputs": [],
   "source": [
    "len(f), eqsys.ns"
   ]
  },
  {
   "cell_type": "markdown",
   "metadata": {},
   "source": [
    "We could cast the preservation equations into [reduced row echelon form](https://en.wikipedia.org/wiki/Row_echelon_form) (which would remove one equation), but for now we'll leave this be and rely on the Levenberg-Marquardt algorithm to solve our problem in a least-squares sense. (Levenberg-Marquardt uses [QR-decomposition](https://en.wikipedia.org/wiki/QR_decomposition) internally for which it is acceptable to have overdetermined systems).\n",
    "\n",
    "Let's solve the equations for our inital concentrations:"
   ]
  },
  {
   "cell_type": "code",
   "execution_count": null,
   "metadata": {},
   "outputs": [],
   "source": [
    "C, sol, sane = eqsys.root(simpl_c0, NumSys=NumSysLog)\n",
    "assert sol['success'] and sane\n",
    "C"
   ]
  },
  {
   "cell_type": "markdown",
   "metadata": {},
   "source": [
    "Great, let's now vary the initial concentration of $NH_3$ and plot the equilibrium concentrations of our species:"
   ]
  },
  {
   "cell_type": "code",
   "execution_count": null,
   "metadata": {},
   "outputs": [],
   "source": [
    "import numpy as np\n",
    "plt.figure(figsize=(20,8))\n",
    "NH3_varied = np.logspace(-4, 0, 200)\n",
    "Cout_logC, extra, success = eqsys.roots(\n",
    "    simpl_c0, NH3_varied, 'NH3', NumSys=NumSysLog, plot_kwargs={'latex_names': True})\n",
    "all(success), sum([nfo['nfev'] for nfo in extra['info']]), sum([nfo['njev'] for nfo in extra['info']])\n",
    "_ = plt.gca().set_ylim([1e-10, 60])"
   ]
  },
  {
   "cell_type": "markdown",
   "metadata": {},
   "source": [
    "But the above diagram is only true if we are below the solubility limit of our neglected $\\rm Cu(OH)_2(s)$.\n",
    "\n",
    "Let's plot the solubility product in the same diagram:"
   ]
  },
  {
   "cell_type": "code",
   "execution_count": null,
   "metadata": {},
   "outputs": [],
   "source": [
    "sol_prod = Cout_logC[:, eqsys.as_substance_index('Cu+2')]*Cout_logC[:, eqsys.as_substance_index('OH-')]**2\n",
    "plt.figure(figsize=(20,6))\n",
    "plt.loglog(NH3_varied, sol_prod, label='[$%s$][$%s$]$^2$' % (eqsys.substances['Cu+2'].latex_name,\n",
    "                                                             eqsys.substances['OH-'].latex_name))\n",
    "plt.loglog(NH3_varied, Cout_logC[:, eqsys.as_substance_index('H+')], ls=':',\n",
    "           label='[$%s$]' % eqsys.substances['H+'].latex_name)\n",
    "plt.loglog([NH3_varied[0], NH3_varied[-1]], [10**-18.8, 10**-18.8], 'k--', label='$K_{sp}(Cu(OH)_2(s))$')\n",
    "plt.xlabel('[$NH_3$]')\n",
    "_ = plt.legend()"
   ]
  },
  {
   "cell_type": "markdown",
   "metadata": {},
   "source": [
    "We see that for a ammonia concentration exceeding ~500-600 mM we would not precipitate $Cu(OH)_2(s)$ even though our pH is quite high (almost 12).\n",
    "\n",
    "We have solved the above system of equations for the *logarithm* of the concentrations. How big are our absolute and relative errors compared to the linear system? Let's plot them:"
   ]
  },
  {
   "cell_type": "code",
   "execution_count": null,
   "metadata": {},
   "outputs": [],
   "source": [
    "fig, axes = plt.subplots(1, 2, figsize=(20, 8))\n",
    "eqsys.plot_errors(Cout_logC, simpl_c0, NH3_varied, 'NH3', axes=axes)"
   ]
  },
  {
   "cell_type": "markdown",
   "metadata": {},
   "source": [
    "Not bad. So the problem is essentially solved. But let's say that it is very important to know the exact position of the intersection for the solutbility limit. We can locate it using the secant method:"
   ]
  },
  {
   "cell_type": "code",
   "execution_count": null,
   "metadata": {},
   "outputs": [],
   "source": [
    "from scipy.optimize import newton\n",
    "convergence = []\n",
    "def sol_lim(c_NH3):\n",
    "    c0 = simpl_c0.copy()\n",
    "    c0['NH3'] = c_NH3\n",
    "    C, sol, sane = eqsys.root(c0, NumSys=NumSysLog)\n",
    "    assert sol['success'] and sane\n",
    "    prod = C[eqsys.as_substance_index('Cu+2')]*C[eqsys.as_substance_index('OH-')]**2\n",
    "    discrepancy = prod/10**-18.8 - 1\n",
    "    convergence.append(discrepancy)\n",
    "    return discrepancy\n",
    "Climit_NH3 = newton(sol_lim, 0.5)\n",
    "convergence = np.array(convergence).reshape((len(convergence), 1))\n",
    "print(convergence)\n",
    "Climit_NH3"
   ]
  },
  {
   "cell_type": "markdown",
   "metadata": {},
   "source": [
    "For fun, let's see what the equation system looks like if we canonicalize it by transforming the equations for equibliria and the equations for the preservation relations to their respective reduced row echelon form:"
   ]
  },
  {
   "cell_type": "code",
   "execution_count": null,
   "metadata": {},
   "outputs": [],
   "source": [
    "len(x)"
   ]
  },
  {
   "cell_type": "code",
   "execution_count": null,
   "metadata": {},
   "outputs": [],
   "source": [
    "numsys_log_rref = NumSysLog(eqsys, rref_equil=True, rref_preserv=True, backend=sp)\n",
    "rf = numsys_log_rref.f(x, params)\n",
    "rf"
   ]
  },
  {
   "cell_type": "code",
   "execution_count": null,
   "metadata": {},
   "outputs": [],
   "source": [
    "len(eqsys.params()), len(Ks)"
   ]
  },
  {
   "cell_type": "code",
   "execution_count": null,
   "metadata": {},
   "outputs": [],
   "source": [
    "len(rf)"
   ]
  },
  {
   "cell_type": "code",
   "execution_count": null,
   "metadata": {},
   "outputs": [],
   "source": [
    "sp.Symbol('x') == sp.Symbol('x', nonnegative=True)"
   ]
  },
  {
   "cell_type": "code",
   "execution_count": null,
   "metadata": {},
   "outputs": [],
   "source": [
    "fx = NumSysLin(eqsys, rref_equil=True, rref_preserv=True, backend=sp).f(x, params)\n",
    "fx"
   ]
  },
  {
   "cell_type": "markdown",
   "metadata": {},
   "source": [
    "<!-- sp.Matrix(1, len(fx), lambda _, q: fx[q]).jacobian(x) -->"
   ]
  },
  {
   "cell_type": "code",
   "execution_count": null,
   "metadata": {},
   "outputs": [],
   "source": [
    "from aq_radiolysis.sym_util import safe_div\n",
    "\n",
    "def exportable(*, log, max_small=False):\n",
    "    if log:\n",
    "        def fmt_i(i):\n",
    "            return f\"log(i{i})\"\n",
    "        objectives = NumSysLog(eqsys, rref_equil=True, rref_preserv=True, backend=sp).f(x, params)\n",
    "    else:\n",
    "        def fmt_i(i):\n",
    "            return f\"i{i}\"\n",
    "        objectives = NumSysLin(eqsys, rref_equil=True, rref_preserv=True, backend=sp).f(x, params)\n",
    "    small1 = sp.Symbol(\"small1\")\n",
    "    small2 = sp.Symbol(\"small2\")\n",
    "    \n",
    "    if max_small:\n",
    "        #def could_be_zero(e):\n",
    "        #    return e.subs({xi: 0 for xi in x}) == 0\n",
    "        #xd = {xi: sp.Symbol(xi.name, nonnegative=True) for xi in x}\n",
    "        #modified = [e.replace(lambda a: a.is_Pow and a.exp < 0 and could_be_zero(a.base), lambda a: 1/sp.Max(a.base.xreplace(xd)**-a.exp, small1)) for e in objectives]\n",
    "        \n",
    "        #from itertools import groupby\n",
    "        #from functools import reduce\n",
    "        #from operator import mul\n",
    "        #def pred(kv):\n",
    "        #    return kv[0] in x and kv[1] < 0\n",
    "        #def tform(e):\n",
    "        #    r = ([], [])\n",
    "        #    for gr, it in groupby(e.as_powers_dict().items(), pred):\n",
    "        #        r[gr == True].extend(list(it))\n",
    "        #    a, b = r\n",
    "        #    return reduce(mul, [k**v for k, v in a])/(small1+reduce(mul, [k**-v for k, v in b]))\n",
    "        #modified = [e.replace(lambda e: e.is_Mul and any(pred(kv) for kv in e.as_powers_dict().items()), tform) for e in objectives]\n",
    "        modified = [e.replace(lambda e: e.is_Mul, safe_div) for e in objectives]\n",
    "    else:\n",
    "        modified = objectives\n",
    "\n",
    "    def stringify(e):\n",
    "        return str(e).replace('**', '^').replace('x_', 'x').replace(\"Max\", \"max\").replace('i_', 'i')\n",
    "\n",
    "    s = []\n",
    "    s += [f\"x{i}\\t{m}\\t{fmt_i(i)}\\t0\\t{s.name}\" for i, (s, m) in enumerate(zip(simpl_subs, map(stringify, modified)))]\n",
    "    s += [\"\", \"small1\\t1e-70\", \"small2\\t1e-90\"]\n",
    "    s += [f\"i{i}\\t{init_conc[k.name] or small2}\\t\\t{s.name}\" for i, (k, s) in enumerate(zip(simpl_subs, simpl_subs))]\n",
    "    s += [f\"{k}\\t{v}\" for k, v in zip(Ks, eqsys.params())]\n",
    "    s += [\"\"]\n",
    "    \n",
    "    if not log:\n",
    "        s += [\" \".join(f\"comp1.x{i} 0\" for i in range(len(simpl_subs)))]\n",
    "    return \"\\n\".join(s)\n",
    "\n",
    "print(exportable(log=True))"
   ]
  },
  {
   "cell_type": "code",
   "execution_count": null,
   "metadata": {},
   "outputs": [],
   "source": [
    "print(exportable(log=False, max_small=True))"
   ]
  },
  {
   "cell_type": "code",
   "execution_count": null,
   "metadata": {},
   "outputs": [],
   "source": [
    "print(exportable(log=False))"
   ]
  },
  {
   "cell_type": "markdown",
   "metadata": {},
   "source": [
    "So the Jacobian should be considerably more diagonally dominant now:"
   ]
  },
  {
   "cell_type": "code",
   "execution_count": null,
   "metadata": {},
   "outputs": [],
   "source": [
    "j = sp.Matrix(1, len(rf), lambda _, q: rf[q]).jacobian(x)\n",
    "spy(j)"
   ]
  },
  {
   "cell_type": "code",
   "execution_count": null,
   "metadata": {},
   "outputs": [],
   "source": [
    "j.rows, j.cols"
   ]
  },
  {
   "cell_type": "markdown",
   "metadata": {},
   "source": [
    "<!--\n",
    "j = sp.Matrix(1, len(rf), lambda _, q: rf[q]).jacobian(x)\n",
    "piv = []\n",
    "for ir in range(j.rows):\n",
    "    if j[ir, ir] != 0:\n",
    "        piv.append(ir)\n",
    "        continue\n",
    "    for ir2 in range(ir+1, j.rows):\n",
    "        if j[ir2, ir] != 0:\n",
    "            piv.append(ir2)\n",
    "            j.row_swap(ir, ir2)\n",
    "            break\n",
    "    else:\n",
    "        raise ValueError(\"No pivot found\")\n",
    "j\n",
    "-->"
   ]
  },
  {
   "cell_type": "markdown",
   "metadata": {},
   "source": [
    "<!--\n",
    "permute = list(range(len(piv)))\n",
    "for i, j in enumerate(piv):\n",
    "    tmp = permute[i]\n",
    "    permute[i] = permute[j]\n",
    "    permute[j] = tmp\n",
    "permute\n",
    "-->"
   ]
  },
  {
   "cell_type": "markdown",
   "metadata": {},
   "source": [
    "And let's see if this system converges as well:"
   ]
  },
  {
   "cell_type": "code",
   "execution_count": null,
   "metadata": {},
   "outputs": [],
   "source": [
    "plt.figure(figsize=(20,8))\n",
    "out = eqsys.roots(simpl_c0, NH3_varied, 'NH3', rref_equil=True,\n",
    "                  rref_preserv=True, NumSys=NumSysLog, plot_kwargs={'latex_names': True})\n",
    "_ = plt.gca().set_ylim([1e-10, 60])"
   ]
  },
  {
   "cell_type": "markdown",
   "metadata": {},
   "source": [
    "Sinvce version 0.2.0 of chempy there is support for automatic reformulation of the system of equations when precipitation occurs:"
   ]
  },
  {
   "cell_type": "code",
   "execution_count": null,
   "metadata": {},
   "outputs": [],
   "source": [
    "full_eqsys = EqSystem(equilibria[:-2] + new_eqs, substances)\n",
    "full_numsys_log_rref = NumSysLog(full_eqsys, rref_equil=False, rref_preserv=False, precipitates=[False], backend=sp)\n",
    "full_x, full_i, full_Ks = sp.symarray('x', full_eqsys.ns), sp.symarray('i', full_eqsys.ns), sp.symarray('K', full_eqsys.nr)\n",
    "full_rf = full_numsys_log_rref.f(full_x, np.concatenate((full_i, full_Ks)))\n",
    "full_rf"
   ]
  },
  {
   "cell_type": "code",
   "execution_count": null,
   "metadata": {},
   "outputs": [],
   "source": [
    "def solve_and_plot_full(NumSys, plot_kwargs={'latex_names': True}, **kwargs):\n",
    "    plt.figure(figsize=(18, 7))\n",
    "    result = full_eqsys.roots(init_conc, NH3_varied, 'NH3', NumSys=NumSys, plot_kwargs=plot_kwargs or {}, **kwargs)\n",
    "    \n",
    "    try:\n",
    "        cur_val = None\n",
    "        for idx, condition in enumerate([nfo['intermediate_info'][0]['conditions'] for nfo in result[1]['info']]):\n",
    "            any_precip = condition != (False,)*len(condition)\n",
    "            if cur_val is None:\n",
    "                if any_precip:\n",
    "                    onset = idx\n",
    "            elif cur_val == any_precip:\n",
    "                pass\n",
    "            else:\n",
    "                if any_precip:\n",
    "                    onset = idx\n",
    "                else:\n",
    "                    plt.axvspan(NH3_varied[onset], NH3_varied[idx], facecolor='gray', alpha=0.1)\n",
    "                    onset = None\n",
    "            cur_val = any_precip\n",
    "        if onset is not None:\n",
    "            plt.axvspan(NH3_varied[onset], NH3_varied[-1], facecolor='gray', alpha=0.1)\n",
    "    except KeyError:\n",
    "        pass\n",
    "    return result"
   ]
  },
  {
   "cell_type": "code",
   "execution_count": null,
   "metadata": {},
   "outputs": [],
   "source": [
    "xout_log, sols_log, sane_log = solve_and_plot_full(NumSysLog, solver='scipy', tol=1e-10, conditional_maxiter=30,\n",
    "                                                   rref_equil=True, rref_preserv=True, method='lm')\n",
    "plt.gca().set_ylim([1e-15, 60])\n",
    "plt.gca().set_xscale('log')\n",
    "plt.gca().set_yscale('log')"
   ]
  },
  {
   "cell_type": "markdown",
   "metadata": {},
   "source": [
    "We see that the numerical solution is not perfect (it could probably be improved by scaling the components individually). But the principle is clear: we can solve the solve non-linear system of equations using this method.\n",
    "\n",
    "Let's see if we can gain some more insight here:"
   ]
  },
  {
   "cell_type": "code",
   "execution_count": null,
   "metadata": {},
   "outputs": [],
   "source": [
    "def sum_species(x, species, substance_names, weights=None):\n",
    "    accum = np.zeros(x.shape[0])\n",
    "    if weights is None:\n",
    "        weights = [1]*len(substance_names)\n",
    "    for idx in map(substance_names.index, species):\n",
    "        accum += x[:, idx]*weights[idx]\n",
    "    return accum\n",
    "\n",
    "def plot_groups(varied, x):\n",
    "    substance_names = list(full_eqsys.substances.keys())\n",
    "    weights = [s.composition.get(atomic_number('Cu'), ) for s in full_eqsys.substances.values()]\n",
    "    amines = sum_species(x, NH3_complexes, substance_names, weights)\n",
    "    hydroxides = sum_species(x, OH_complexes, substance_names, weights)\n",
    "    free = sum_species(x, ['Cu+2'], substance_names, weights)\n",
    "    precip = sum_species(x, ['Cu(OH)2(s)'], substance_names, weights)\n",
    "    \n",
    "    tot = amines + hydroxides + free + precip\n",
    "\n",
    "    plt.figure(figsize=(13.7, 7))\n",
    "    plt.plot(NH3_varied, tot, label='tot')\n",
    "    plt.plot(NH3_varied, amines, label='amines')\n",
    "    plt.plot(NH3_varied, hydroxides, label='hydroxides')\n",
    "    plt.plot(NH3_varied, free, label='free')\n",
    "    plt.plot(NH3_varied, precip, label='precip')\n",
    "    plt.legend(loc='best')\n",
    "    plt.gca().set_xscale('log')\n",
    "\n",
    "plot_groups(NH3_varied, xout_log)"
   ]
  },
  {
   "cell_type": "markdown",
   "metadata": {},
   "source": [
    "Without any precipitates (we force the system to not precipitate any solids, applicable for short timescales for example):"
   ]
  },
  {
   "cell_type": "code",
   "execution_count": null,
   "metadata": {},
   "outputs": [],
   "source": [
    "xout_static, sols_static, sane_static = solve_and_plot_full(\n",
    "    NumSysLog, solver='scipy', tol=1e-12, # , NumSysSquare\n",
    "    neqsys_type='static_conditions',\n",
    "    rref_equil=True, rref_preserv=True,\n",
    "    precipitates=(False,), method='lm', plot_kwargs=None\n",
    ")\n",
    "plt.gca().set_xscale('log')\n",
    "plt.gca().set_yscale('log')\n",
    "plt.gca().set_ylim([1e-10, 60])\n",
    "\n",
    "plot_groups(NH3_varied, xout_static)"
   ]
  },
  {
   "cell_type": "code",
   "execution_count": null,
   "metadata": {},
   "outputs": [],
   "source": []
  }
 ],
 "metadata": {
  "kernelspec": {
   "display_name": "Python 3 (ipykernel)",
   "language": "python",
   "name": "python3"
  },
  "language_info": {
   "codemirror_mode": {
    "name": "ipython",
    "version": 3
   },
   "file_extension": ".py",
   "mimetype": "text/x-python",
   "name": "python",
   "nbconvert_exporter": "python",
   "pygments_lexer": "ipython3",
   "version": "3.8.10"
  }
 },
 "nbformat": 4,
 "nbformat_minor": 1
}
